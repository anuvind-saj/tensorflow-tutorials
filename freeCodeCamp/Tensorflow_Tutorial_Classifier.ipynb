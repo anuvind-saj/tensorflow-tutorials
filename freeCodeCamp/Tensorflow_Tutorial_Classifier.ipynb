{
  "nbformat": 4,
  "nbformat_minor": 0,
  "metadata": {
    "colab": {
      "name": "Tensorflow Tutorial_Classifier.ipynb",
      "provenance": [],
      "collapsed_sections": [],
      "authorship_tag": "ABX9TyNhC3ipuYQB59v7FENqiI0Y",
      "include_colab_link": true
    },
    "kernelspec": {
      "name": "python3",
      "display_name": "Python 3"
    },
    "language_info": {
      "name": "python"
    }
  },
  "cells": [
    {
      "cell_type": "markdown",
      "metadata": {
        "id": "view-in-github",
        "colab_type": "text"
      },
      "source": [
        "<a href=\"https://colab.research.google.com/github/anuvind-saj/tensorflow-tutorials/blob/AI_ML/freeCodeCamp/Tensorflow_Tutorial_Classifier.ipynb\" target=\"_parent\"><img src=\"https://colab.research.google.com/assets/colab-badge.svg\" alt=\"Open In Colab\"/></a>"
      ]
    },
    {
      "cell_type": "code",
      "metadata": {
        "id": "V2-hixZ6K1BU"
      },
      "source": [
        "%tensorflow_version 2.x"
      ],
      "execution_count": null,
      "outputs": []
    },
    {
      "cell_type": "code",
      "metadata": {
        "id": "The2ZusoLAt3"
      },
      "source": [
        "from __future__ import absolute_import, division, print_function, unicode_literals\n",
        "\n",
        "import tensorflow as tf\n",
        "import pandas as pd\n",
        "import seaborn as sns"
      ],
      "execution_count": null,
      "outputs": []
    },
    {
      "cell_type": "code",
      "metadata": {
        "id": "6X9dfpYLLPdS"
      },
      "source": [
        "CSV_COLUMN_NAMES = ['SepalLength', 'SepalWidth', 'PetalLength', 'PetalWidth', 'Species']\n",
        "SPECIES = ['Setosa', 'Versicolor', 'Virginica']\n",
        "# Lets define some constants to help us later on"
      ],
      "execution_count": null,
      "outputs": []
    },
    {
      "cell_type": "code",
      "metadata": {
        "id": "w-N5e7uVLVpn",
        "colab": {
          "base_uri": "https://localhost:8080/"
        },
        "outputId": "c66bc9f8-1e54-45df-b9d7-46c46bb147b4"
      },
      "source": [
        "train_path = tf.keras.utils.get_file(\n",
        "    \"iris_training.csv\", \"https://storage.googleapis.com/download.tensorflow.org/data/iris_training.csv\")\n",
        "test_path = tf.keras.utils.get_file(\n",
        "    \"iris_test.csv\", \"https://storage.googleapis.com/download.tensorflow.org/data/iris_test.csv\")\n",
        "\n",
        "train = pd.read_csv(train_path, names=CSV_COLUMN_NAMES, header=0)\n",
        "test = pd.read_csv(test_path, names=CSV_COLUMN_NAMES, header=0)\n",
        "# Here we use keras (a module inside of TensorFlow) to grab our datasets and read them into a pandas dataframe"
      ],
      "execution_count": null,
      "outputs": [
        {
          "output_type": "stream",
          "text": [
            "Downloading data from https://storage.googleapis.com/download.tensorflow.org/data/iris_training.csv\n",
            "8192/2194 [================================================================================================================] - 0s 0us/step\n",
            "Downloading data from https://storage.googleapis.com/download.tensorflow.org/data/iris_test.csv\n",
            "8192/573 [============================================================================================================================================================================================================================================================================================================================================================================================================================================] - 0s 0us/step\n"
          ],
          "name": "stdout"
        }
      ]
    },
    {
      "cell_type": "code",
      "metadata": {
        "colab": {
          "base_uri": "https://localhost:8080/",
          "height": 669
        },
        "id": "wPlGnIGPL5AN",
        "outputId": "464ac70a-21f6-4fbc-b433-a711cda2919e"
      },
      "source": [
        "train.sample(20)"
      ],
      "execution_count": null,
      "outputs": [
        {
          "output_type": "execute_result",
          "data": {
            "text/html": [
              "<div>\n",
              "<style scoped>\n",
              "    .dataframe tbody tr th:only-of-type {\n",
              "        vertical-align: middle;\n",
              "    }\n",
              "\n",
              "    .dataframe tbody tr th {\n",
              "        vertical-align: top;\n",
              "    }\n",
              "\n",
              "    .dataframe thead th {\n",
              "        text-align: right;\n",
              "    }\n",
              "</style>\n",
              "<table border=\"1\" class=\"dataframe\">\n",
              "  <thead>\n",
              "    <tr style=\"text-align: right;\">\n",
              "      <th></th>\n",
              "      <th>SepalLength</th>\n",
              "      <th>SepalWidth</th>\n",
              "      <th>PetalLength</th>\n",
              "      <th>PetalWidth</th>\n",
              "      <th>Species</th>\n",
              "    </tr>\n",
              "  </thead>\n",
              "  <tbody>\n",
              "    <tr>\n",
              "      <th>87</th>\n",
              "      <td>5.7</td>\n",
              "      <td>2.8</td>\n",
              "      <td>4.5</td>\n",
              "      <td>1.3</td>\n",
              "      <td>1</td>\n",
              "    </tr>\n",
              "    <tr>\n",
              "      <th>27</th>\n",
              "      <td>5.9</td>\n",
              "      <td>3.0</td>\n",
              "      <td>5.1</td>\n",
              "      <td>1.8</td>\n",
              "      <td>2</td>\n",
              "    </tr>\n",
              "    <tr>\n",
              "      <th>115</th>\n",
              "      <td>5.5</td>\n",
              "      <td>2.6</td>\n",
              "      <td>4.4</td>\n",
              "      <td>1.2</td>\n",
              "      <td>1</td>\n",
              "    </tr>\n",
              "    <tr>\n",
              "      <th>66</th>\n",
              "      <td>4.4</td>\n",
              "      <td>3.0</td>\n",
              "      <td>1.3</td>\n",
              "      <td>0.2</td>\n",
              "      <td>0</td>\n",
              "    </tr>\n",
              "    <tr>\n",
              "      <th>46</th>\n",
              "      <td>4.8</td>\n",
              "      <td>3.4</td>\n",
              "      <td>1.6</td>\n",
              "      <td>0.2</td>\n",
              "      <td>0</td>\n",
              "    </tr>\n",
              "    <tr>\n",
              "      <th>26</th>\n",
              "      <td>5.8</td>\n",
              "      <td>2.6</td>\n",
              "      <td>4.0</td>\n",
              "      <td>1.2</td>\n",
              "      <td>1</td>\n",
              "    </tr>\n",
              "    <tr>\n",
              "      <th>117</th>\n",
              "      <td>4.4</td>\n",
              "      <td>2.9</td>\n",
              "      <td>1.4</td>\n",
              "      <td>0.2</td>\n",
              "      <td>0</td>\n",
              "    </tr>\n",
              "    <tr>\n",
              "      <th>71</th>\n",
              "      <td>6.6</td>\n",
              "      <td>2.9</td>\n",
              "      <td>4.6</td>\n",
              "      <td>1.3</td>\n",
              "      <td>1</td>\n",
              "    </tr>\n",
              "    <tr>\n",
              "      <th>74</th>\n",
              "      <td>6.1</td>\n",
              "      <td>3.0</td>\n",
              "      <td>4.9</td>\n",
              "      <td>1.8</td>\n",
              "      <td>2</td>\n",
              "    </tr>\n",
              "    <tr>\n",
              "      <th>94</th>\n",
              "      <td>6.5</td>\n",
              "      <td>3.0</td>\n",
              "      <td>5.8</td>\n",
              "      <td>2.2</td>\n",
              "      <td>2</td>\n",
              "    </tr>\n",
              "    <tr>\n",
              "      <th>104</th>\n",
              "      <td>5.0</td>\n",
              "      <td>3.4</td>\n",
              "      <td>1.6</td>\n",
              "      <td>0.4</td>\n",
              "      <td>0</td>\n",
              "    </tr>\n",
              "    <tr>\n",
              "      <th>111</th>\n",
              "      <td>5.7</td>\n",
              "      <td>2.8</td>\n",
              "      <td>4.1</td>\n",
              "      <td>1.3</td>\n",
              "      <td>1</td>\n",
              "    </tr>\n",
              "    <tr>\n",
              "      <th>2</th>\n",
              "      <td>4.9</td>\n",
              "      <td>2.5</td>\n",
              "      <td>4.5</td>\n",
              "      <td>1.7</td>\n",
              "      <td>2</td>\n",
              "    </tr>\n",
              "    <tr>\n",
              "      <th>59</th>\n",
              "      <td>5.0</td>\n",
              "      <td>2.0</td>\n",
              "      <td>3.5</td>\n",
              "      <td>1.0</td>\n",
              "      <td>1</td>\n",
              "    </tr>\n",
              "    <tr>\n",
              "      <th>106</th>\n",
              "      <td>5.3</td>\n",
              "      <td>3.7</td>\n",
              "      <td>1.5</td>\n",
              "      <td>0.2</td>\n",
              "      <td>0</td>\n",
              "    </tr>\n",
              "    <tr>\n",
              "      <th>73</th>\n",
              "      <td>7.7</td>\n",
              "      <td>3.0</td>\n",
              "      <td>6.1</td>\n",
              "      <td>2.3</td>\n",
              "      <td>2</td>\n",
              "    </tr>\n",
              "    <tr>\n",
              "      <th>57</th>\n",
              "      <td>5.8</td>\n",
              "      <td>2.7</td>\n",
              "      <td>5.1</td>\n",
              "      <td>1.9</td>\n",
              "      <td>2</td>\n",
              "    </tr>\n",
              "    <tr>\n",
              "      <th>32</th>\n",
              "      <td>6.4</td>\n",
              "      <td>3.2</td>\n",
              "      <td>4.5</td>\n",
              "      <td>1.5</td>\n",
              "      <td>1</td>\n",
              "    </tr>\n",
              "    <tr>\n",
              "      <th>98</th>\n",
              "      <td>5.9</td>\n",
              "      <td>3.2</td>\n",
              "      <td>4.8</td>\n",
              "      <td>1.8</td>\n",
              "      <td>1</td>\n",
              "    </tr>\n",
              "    <tr>\n",
              "      <th>49</th>\n",
              "      <td>7.2</td>\n",
              "      <td>3.2</td>\n",
              "      <td>6.0</td>\n",
              "      <td>1.8</td>\n",
              "      <td>2</td>\n",
              "    </tr>\n",
              "  </tbody>\n",
              "</table>\n",
              "</div>"
            ],
            "text/plain": [
              "     SepalLength  SepalWidth  PetalLength  PetalWidth  Species\n",
              "87           5.7         2.8          4.5         1.3        1\n",
              "27           5.9         3.0          5.1         1.8        2\n",
              "115          5.5         2.6          4.4         1.2        1\n",
              "66           4.4         3.0          1.3         0.2        0\n",
              "46           4.8         3.4          1.6         0.2        0\n",
              "26           5.8         2.6          4.0         1.2        1\n",
              "117          4.4         2.9          1.4         0.2        0\n",
              "71           6.6         2.9          4.6         1.3        1\n",
              "74           6.1         3.0          4.9         1.8        2\n",
              "94           6.5         3.0          5.8         2.2        2\n",
              "104          5.0         3.4          1.6         0.4        0\n",
              "111          5.7         2.8          4.1         1.3        1\n",
              "2            4.9         2.5          4.5         1.7        2\n",
              "59           5.0         2.0          3.5         1.0        1\n",
              "106          5.3         3.7          1.5         0.2        0\n",
              "73           7.7         3.0          6.1         2.3        2\n",
              "57           5.8         2.7          5.1         1.9        2\n",
              "32           6.4         3.2          4.5         1.5        1\n",
              "98           5.9         3.2          4.8         1.8        1\n",
              "49           7.2         3.2          6.0         1.8        2"
            ]
          },
          "metadata": {
            "tags": []
          },
          "execution_count": 5
        }
      ]
    },
    {
      "cell_type": "code",
      "metadata": {
        "colab": {
          "base_uri": "https://localhost:8080/"
        },
        "id": "vwzjcFr4MAWW",
        "outputId": "53ba75a1-1acd-47c7-ccff-685b46fd889e"
      },
      "source": [
        "print(train.shape)\n",
        "print(test.shape)"
      ],
      "execution_count": null,
      "outputs": [
        {
          "output_type": "stream",
          "text": [
            "(120, 5)\n",
            "(30, 5)\n"
          ],
          "name": "stdout"
        }
      ]
    },
    {
      "cell_type": "code",
      "metadata": {
        "id": "LWggz43ZMRt9"
      },
      "source": [
        "train_y = train.pop('Species')\n",
        "test_y = test.pop('Species')"
      ],
      "execution_count": null,
      "outputs": []
    },
    {
      "cell_type": "code",
      "metadata": {
        "colab": {
          "base_uri": "https://localhost:8080/",
          "height": 297
        },
        "id": "tcaxAlgJMipO",
        "outputId": "7c8a9b56-b7aa-4b86-e3e6-2269050dc656"
      },
      "source": [
        "train.describe()"
      ],
      "execution_count": null,
      "outputs": [
        {
          "output_type": "execute_result",
          "data": {
            "text/html": [
              "<div>\n",
              "<style scoped>\n",
              "    .dataframe tbody tr th:only-of-type {\n",
              "        vertical-align: middle;\n",
              "    }\n",
              "\n",
              "    .dataframe tbody tr th {\n",
              "        vertical-align: top;\n",
              "    }\n",
              "\n",
              "    .dataframe thead th {\n",
              "        text-align: right;\n",
              "    }\n",
              "</style>\n",
              "<table border=\"1\" class=\"dataframe\">\n",
              "  <thead>\n",
              "    <tr style=\"text-align: right;\">\n",
              "      <th></th>\n",
              "      <th>SepalLength</th>\n",
              "      <th>SepalWidth</th>\n",
              "      <th>PetalLength</th>\n",
              "      <th>PetalWidth</th>\n",
              "    </tr>\n",
              "  </thead>\n",
              "  <tbody>\n",
              "    <tr>\n",
              "      <th>count</th>\n",
              "      <td>120.000000</td>\n",
              "      <td>120.000000</td>\n",
              "      <td>120.000000</td>\n",
              "      <td>120.000000</td>\n",
              "    </tr>\n",
              "    <tr>\n",
              "      <th>mean</th>\n",
              "      <td>5.845000</td>\n",
              "      <td>3.065000</td>\n",
              "      <td>3.739167</td>\n",
              "      <td>1.196667</td>\n",
              "    </tr>\n",
              "    <tr>\n",
              "      <th>std</th>\n",
              "      <td>0.868578</td>\n",
              "      <td>0.427156</td>\n",
              "      <td>1.822100</td>\n",
              "      <td>0.782039</td>\n",
              "    </tr>\n",
              "    <tr>\n",
              "      <th>min</th>\n",
              "      <td>4.400000</td>\n",
              "      <td>2.000000</td>\n",
              "      <td>1.000000</td>\n",
              "      <td>0.100000</td>\n",
              "    </tr>\n",
              "    <tr>\n",
              "      <th>25%</th>\n",
              "      <td>5.075000</td>\n",
              "      <td>2.800000</td>\n",
              "      <td>1.500000</td>\n",
              "      <td>0.300000</td>\n",
              "    </tr>\n",
              "    <tr>\n",
              "      <th>50%</th>\n",
              "      <td>5.800000</td>\n",
              "      <td>3.000000</td>\n",
              "      <td>4.400000</td>\n",
              "      <td>1.300000</td>\n",
              "    </tr>\n",
              "    <tr>\n",
              "      <th>75%</th>\n",
              "      <td>6.425000</td>\n",
              "      <td>3.300000</td>\n",
              "      <td>5.100000</td>\n",
              "      <td>1.800000</td>\n",
              "    </tr>\n",
              "    <tr>\n",
              "      <th>max</th>\n",
              "      <td>7.900000</td>\n",
              "      <td>4.400000</td>\n",
              "      <td>6.900000</td>\n",
              "      <td>2.500000</td>\n",
              "    </tr>\n",
              "  </tbody>\n",
              "</table>\n",
              "</div>"
            ],
            "text/plain": [
              "       SepalLength  SepalWidth  PetalLength  PetalWidth\n",
              "count   120.000000  120.000000   120.000000  120.000000\n",
              "mean      5.845000    3.065000     3.739167    1.196667\n",
              "std       0.868578    0.427156     1.822100    0.782039\n",
              "min       4.400000    2.000000     1.000000    0.100000\n",
              "25%       5.075000    2.800000     1.500000    0.300000\n",
              "50%       5.800000    3.000000     4.400000    1.300000\n",
              "75%       6.425000    3.300000     5.100000    1.800000\n",
              "max       7.900000    4.400000     6.900000    2.500000"
            ]
          },
          "metadata": {
            "tags": []
          },
          "execution_count": 8
        }
      ]
    },
    {
      "cell_type": "code",
      "metadata": {
        "id": "Knz0Uc0UNQT9",
        "colab": {
          "base_uri": "https://localhost:8080/",
          "height": 350
        },
        "outputId": "04faf913-f8eb-494c-df76-5aff49bb9fc0"
      },
      "source": [
        "sns.distplot(train['SepalLength'])"
      ],
      "execution_count": null,
      "outputs": [
        {
          "output_type": "stream",
          "text": [
            "/usr/local/lib/python3.7/dist-packages/seaborn/distributions.py:2557: FutureWarning: `distplot` is a deprecated function and will be removed in a future version. Please adapt your code to use either `displot` (a figure-level function with similar flexibility) or `histplot` (an axes-level function for histograms).\n",
            "  warnings.warn(msg, FutureWarning)\n"
          ],
          "name": "stderr"
        },
        {
          "output_type": "execute_result",
          "data": {
            "text/plain": [
              "<matplotlib.axes._subplots.AxesSubplot at 0x7f72efa9b750>"
            ]
          },
          "metadata": {
            "tags": []
          },
          "execution_count": 9
        },
        {
          "output_type": "display_data",
          "data": {
            "image/png": "[encoded data removed]",
            "text/plain": [
              "<Figure size 432x288 with 1 Axes>"
            ]
          },
          "metadata": {
            "tags": [],
            "needs_background": "light"
          }
        }
      ]
    },
    {
      "cell_type": "code",
      "metadata": {
        "colab": {
          "base_uri": "https://localhost:8080/",
          "height": 400
        },
        "id": "9L1J2hEVOTXd",
        "outputId": "93b2c0cd-cf6c-42b7-fcb5-2c69ea98262c"
      },
      "source": [
        "sns.catplot(x='SepalLength', kind='box', data=train)"
      ],
      "execution_count": null,
      "outputs": [
        {
          "output_type": "execute_result",
          "data": {
            "text/plain": [
              "<seaborn.axisgrid.FacetGrid at 0x7f72eee7e2d0>"
            ]
          },
          "metadata": {
            "tags": []
          },
          "execution_count": 10
        },
        {
          "output_type": "display_data",
          "data": {
            "image/png": "[encoded data removed]",
            "text/plain": [
              "<Figure size 360x360 with 1 Axes>"
            ]
          },
          "metadata": {
            "tags": [],
            "needs_background": "light"
          }
        }
      ]
    },
    {
      "cell_type": "code",
      "metadata": {
        "id": "Hh6a9K10Ofh1"
      },
      "source": [
        "def input_fn(features, labels, training=True, batch_size=256):\n",
        "    # Convert the inputs to a Dataset.\n",
        "    dataset = tf.data.Dataset.from_tensor_slices((dict(features), labels))\n",
        "\n",
        "    # Shuffle and repeat if you are in training mode.\n",
        "    if training:\n",
        "        dataset = dataset.shuffle(1000).repeat()\n",
        "    \n",
        "    return dataset.batch(batch_size)"
      ],
      "execution_count": null,
      "outputs": []
    },
    {
      "cell_type": "code",
      "metadata": {
        "colab": {
          "base_uri": "https://localhost:8080/"
        },
        "id": "_9thKwVZP0MW",
        "outputId": "6de6465e-3514-4914-9a4a-3b8c607f0fe0"
      },
      "source": [
        "# Feature columns describe how to use the input.\n",
        "my_feature_columns = []\n",
        "for key in train.keys():\n",
        "    my_feature_columns.append(tf.feature_column.numeric_column(key=key))\n",
        "print(my_feature_columns)"
      ],
      "execution_count": null,
      "outputs": [
        {
          "output_type": "stream",
          "text": [
            "[NumericColumn(key='SepalLength', shape=(1,), default_value=None, dtype=tf.float32, normalizer_fn=None), NumericColumn(key='SepalWidth', shape=(1,), default_value=None, dtype=tf.float32, normalizer_fn=None), NumericColumn(key='PetalLength', shape=(1,), default_value=None, dtype=tf.float32, normalizer_fn=None), NumericColumn(key='PetalWidth', shape=(1,), default_value=None, dtype=tf.float32, normalizer_fn=None)]\n"
          ],
          "name": "stdout"
        }
      ]
    },
    {
      "cell_type": "code",
      "metadata": {
        "colab": {
          "base_uri": "https://localhost:8080/"
        },
        "id": "0Msxg-rXWIbK",
        "outputId": "48189797-8dda-42ab-dc1f-861fa55a44dc"
      },
      "source": [
        "# Build a DNN with 2 hidden layers with 30 and 10 hidden nodes each.\n",
        "classifier = tf.estimator.DNNClassifier(\n",
        "    feature_columns=my_feature_columns,\n",
        "    # Two hidden layers of 30 and 10 nodes respectively.\n",
        "    hidden_units=[30, 10],\n",
        "    # The model must choose between 3 classes.\n",
        "    n_classes=3)"
      ],
      "execution_count": null,
      "outputs": [
        {
          "output_type": "stream",
          "text": [
            "INFO:tensorflow:Using default config.\n",
            "WARNING:tensorflow:Using temporary folder as model directory: /tmp/tmpre6lbcrv\n",
            "INFO:tensorflow:Using config: {'_model_dir': '/tmp/tmpre6lbcrv', '_tf_random_seed': None, '_save_summary_steps': 100, '_save_checkpoints_steps': None, '_save_checkpoints_secs': 600, '_session_config': allow_soft_placement: true\n",
            "graph_options {\n",
            "  rewrite_options {\n",
            "    meta_optimizer_iterations: ONE\n",
            "  }\n",
            "}\n",
            ", '_keep_checkpoint_max': 5, '_keep_checkpoint_every_n_hours': 10000, '_log_step_count_steps': 100, '_train_distribute': None, '_device_fn': None, '_protocol': None, '_eval_distribute': None, '_experimental_distribute': None, '_experimental_max_worker_delay_secs': None, '_session_creation_timeout_secs': 7200, '_checkpoint_save_graph_def': True, '_service': None, '_cluster_spec': ClusterSpec({}), '_task_type': 'worker', '_task_id': 0, '_global_id_in_cluster': 0, '_master': '', '_evaluation_master': '', '_is_chief': True, '_num_ps_replicas': 0, '_num_worker_replicas': 1}\n"
          ],
          "name": "stdout"
        }
      ]
    },
    {
      "cell_type": "code",
      "metadata": {
        "colab": {
          "base_uri": "https://localhost:8080/"
        },
        "id": "vHDDLDmeXBgF",
        "outputId": "bf426a5b-f7f2-42bd-cec7-2639fa7075c9"
      },
      "source": [
        "classifier.train(\n",
        "    input_fn=lambda: input_fn(train, train_y, training=True),\n",
        "    steps=5000)\n",
        "# We include a lambda to avoid creating an inner function previously"
      ],
      "execution_count": null,
      "outputs": [
        {
          "output_type": "stream",
          "text": [
            "WARNING:tensorflow:From /usr/local/lib/python3.7/dist-packages/tensorflow/python/training/training_util.py:236: Variable.initialized_value (from tensorflow.python.ops.variables) is deprecated and will be removed in a future version.\n",
            "Instructions for updating:\n",
            "Use Variable.read_value. Variables in 2.X are initialized automatically both in eager and graph (inside tf.defun) contexts.\n",
            "INFO:tensorflow:Calling model_fn.\n",
            "WARNING:tensorflow:From /usr/local/lib/python3.7/dist-packages/tensorflow/python/keras/optimizer_v2/adagrad.py:88: calling Constant.__init__ (from tensorflow.python.ops.init_ops) with dtype is deprecated and will be removed in a future version.\n",
            "Instructions for updating:\n",
            "Call initializer instance with the dtype argument instead of passing it to the constructor\n",
            "INFO:tensorflow:Done calling model_fn.\n",
            "INFO:tensorflow:Create CheckpointSaverHook.\n",
            "INFO:tensorflow:Graph was finalized.\n",
            "INFO:tensorflow:Running local_init_op.\n",
            "INFO:tensorflow:Done running local_init_op.\n",
            "INFO:tensorflow:Calling checkpoint listeners before saving checkpoint 0...\n",
            "INFO:tensorflow:Saving checkpoints for 0 into /tmp/tmpre6lbcrv/model.ckpt.\n",
            "INFO:tensorflow:Calling checkpoint listeners after saving checkpoint 0...\n",
            "INFO:tensorflow:loss = 2.256199, step = 0\n",
            "INFO:tensorflow:global_step/sec: 437.469\n",
            "INFO:tensorflow:loss = 1.4988353, step = 100 (0.235 sec)\n",
            "INFO:tensorflow:global_step/sec: 481.4\n",
            "INFO:tensorflow:loss = 1.2332865, step = 200 (0.207 sec)\n",
            "INFO:tensorflow:global_step/sec: 502.545\n",
            "INFO:tensorflow:loss = 1.0451499, step = 300 (0.199 sec)\n",
            "INFO:tensorflow:global_step/sec: 502.35\n",
            "INFO:tensorflow:loss = 0.97826177, step = 400 (0.200 sec)\n",
            "INFO:tensorflow:global_step/sec: 450.702\n",
            "INFO:tensorflow:loss = 0.87148917, step = 500 (0.222 sec)\n",
            "INFO:tensorflow:global_step/sec: 522.036\n",
            "INFO:tensorflow:loss = 0.8604778, step = 600 (0.191 sec)\n",
            "INFO:tensorflow:global_step/sec: 545.735\n",
            "INFO:tensorflow:loss = 0.8319154, step = 700 (0.183 sec)\n",
            "INFO:tensorflow:global_step/sec: 488.925\n",
            "INFO:tensorflow:loss = 0.8079499, step = 800 (0.205 sec)\n",
            "INFO:tensorflow:global_step/sec: 519.321\n",
            "INFO:tensorflow:loss = 0.77449137, step = 900 (0.193 sec)\n",
            "INFO:tensorflow:global_step/sec: 489.686\n",
            "INFO:tensorflow:loss = 0.7516581, step = 1000 (0.201 sec)\n",
            "INFO:tensorflow:global_step/sec: 483.404\n",
            "INFO:tensorflow:loss = 0.7348951, step = 1100 (0.210 sec)\n",
            "INFO:tensorflow:global_step/sec: 507.353\n",
            "INFO:tensorflow:loss = 0.72531116, step = 1200 (0.197 sec)\n",
            "INFO:tensorflow:global_step/sec: 496.732\n",
            "INFO:tensorflow:loss = 0.70826435, step = 1300 (0.201 sec)\n",
            "INFO:tensorflow:global_step/sec: 499.989\n",
            "INFO:tensorflow:loss = 0.70806074, step = 1400 (0.200 sec)\n",
            "INFO:tensorflow:global_step/sec: 495.908\n",
            "INFO:tensorflow:loss = 0.694089, step = 1500 (0.200 sec)\n",
            "INFO:tensorflow:global_step/sec: 524.691\n",
            "INFO:tensorflow:loss = 0.6719378, step = 1600 (0.189 sec)\n",
            "INFO:tensorflow:global_step/sec: 501.522\n",
            "INFO:tensorflow:loss = 0.66843283, step = 1700 (0.199 sec)\n",
            "INFO:tensorflow:global_step/sec: 508.445\n",
            "INFO:tensorflow:loss = 0.65968657, step = 1800 (0.197 sec)\n",
            "INFO:tensorflow:global_step/sec: 541.015\n",
            "INFO:tensorflow:loss = 0.6419914, step = 1900 (0.187 sec)\n",
            "INFO:tensorflow:global_step/sec: 501.254\n",
            "INFO:tensorflow:loss = 0.6469693, step = 2000 (0.199 sec)\n",
            "INFO:tensorflow:global_step/sec: 523.964\n",
            "INFO:tensorflow:loss = 0.63304687, step = 2100 (0.191 sec)\n",
            "INFO:tensorflow:global_step/sec: 535.876\n",
            "INFO:tensorflow:loss = 0.6369882, step = 2200 (0.184 sec)\n",
            "INFO:tensorflow:global_step/sec: 499.058\n",
            "INFO:tensorflow:loss = 0.61958873, step = 2300 (0.204 sec)\n",
            "INFO:tensorflow:global_step/sec: 502.882\n",
            "INFO:tensorflow:loss = 0.6167891, step = 2400 (0.199 sec)\n",
            "INFO:tensorflow:global_step/sec: 546.02\n",
            "INFO:tensorflow:loss = 0.6095373, step = 2500 (0.183 sec)\n",
            "INFO:tensorflow:global_step/sec: 542.488\n",
            "INFO:tensorflow:loss = 0.5976634, step = 2600 (0.184 sec)\n",
            "INFO:tensorflow:global_step/sec: 506.475\n",
            "INFO:tensorflow:loss = 0.5896379, step = 2700 (0.194 sec)\n",
            "INFO:tensorflow:global_step/sec: 545.748\n",
            "INFO:tensorflow:loss = 0.57903266, step = 2800 (0.187 sec)\n",
            "INFO:tensorflow:global_step/sec: 457.945\n",
            "INFO:tensorflow:loss = 0.58025473, step = 2900 (0.214 sec)\n",
            "INFO:tensorflow:global_step/sec: 507.679\n",
            "INFO:tensorflow:loss = 0.5692849, step = 3000 (0.198 sec)\n",
            "INFO:tensorflow:global_step/sec: 496.463\n",
            "INFO:tensorflow:loss = 0.5659503, step = 3100 (0.204 sec)\n",
            "INFO:tensorflow:global_step/sec: 538.413\n",
            "INFO:tensorflow:loss = 0.5732063, step = 3200 (0.183 sec)\n",
            "INFO:tensorflow:global_step/sec: 493.709\n",
            "INFO:tensorflow:loss = 0.54712933, step = 3300 (0.202 sec)\n",
            "INFO:tensorflow:global_step/sec: 513.443\n",
            "INFO:tensorflow:loss = 0.5569299, step = 3400 (0.198 sec)\n",
            "INFO:tensorflow:global_step/sec: 517.567\n",
            "INFO:tensorflow:loss = 0.5452093, step = 3500 (0.191 sec)\n",
            "INFO:tensorflow:global_step/sec: 486.482\n",
            "INFO:tensorflow:loss = 0.53971565, step = 3600 (0.206 sec)\n",
            "INFO:tensorflow:global_step/sec: 497.976\n",
            "INFO:tensorflow:loss = 0.52637947, step = 3700 (0.204 sec)\n",
            "INFO:tensorflow:global_step/sec: 536.399\n",
            "INFO:tensorflow:loss = 0.5370465, step = 3800 (0.183 sec)\n",
            "INFO:tensorflow:global_step/sec: 476.599\n",
            "INFO:tensorflow:loss = 0.52659833, step = 3900 (0.213 sec)\n",
            "INFO:tensorflow:global_step/sec: 505.673\n",
            "INFO:tensorflow:loss = 0.5296724, step = 4000 (0.194 sec)\n",
            "INFO:tensorflow:global_step/sec: 500.13\n",
            "INFO:tensorflow:loss = 0.5194256, step = 4100 (0.203 sec)\n",
            "INFO:tensorflow:global_step/sec: 500.238\n",
            "INFO:tensorflow:loss = 0.5151545, step = 4200 (0.202 sec)\n",
            "INFO:tensorflow:global_step/sec: 490.962\n",
            "INFO:tensorflow:loss = 0.52034765, step = 4300 (0.203 sec)\n",
            "INFO:tensorflow:global_step/sec: 475.122\n",
            "INFO:tensorflow:loss = 0.507969, step = 4400 (0.209 sec)\n",
            "INFO:tensorflow:global_step/sec: 542.48\n",
            "INFO:tensorflow:loss = 0.50647724, step = 4500 (0.185 sec)\n",
            "INFO:tensorflow:global_step/sec: 498.657\n",
            "INFO:tensorflow:loss = 0.5000823, step = 4600 (0.198 sec)\n",
            "INFO:tensorflow:global_step/sec: 554.762\n",
            "INFO:tensorflow:loss = 0.49508217, step = 4700 (0.183 sec)\n",
            "INFO:tensorflow:global_step/sec: 515.32\n",
            "INFO:tensorflow:loss = 0.48882014, step = 4800 (0.194 sec)\n",
            "INFO:tensorflow:global_step/sec: 512.45\n",
            "INFO:tensorflow:loss = 0.48049614, step = 4900 (0.196 sec)\n",
            "INFO:tensorflow:Calling checkpoint listeners before saving checkpoint 5000...\n",
            "INFO:tensorflow:Saving checkpoints for 5000 into /tmp/tmpre6lbcrv/model.ckpt.\n",
            "INFO:tensorflow:Calling checkpoint listeners after saving checkpoint 5000...\n",
            "INFO:tensorflow:Loss for final step: 0.48780632.\n"
          ],
          "name": "stdout"
        },
        {
          "output_type": "execute_result",
          "data": {
            "text/plain": [
              "<tensorflow_estimator.python.estimator.canned.dnn.DNNClassifierV2 at 0x7f72eed9cad0>"
            ]
          },
          "metadata": {
            "tags": []
          },
          "execution_count": 14
        }
      ]
    },
    {
      "cell_type": "code",
      "metadata": {
        "colab": {
          "base_uri": "https://localhost:8080/"
        },
        "id": "9Q0tUvAwYJKC",
        "outputId": "cf38fdda-0158-4aca-feec-13993f5218f4"
      },
      "source": [
        "eval_result = classifier.evaluate(\n",
        "    input_fn=lambda: input_fn(test, test_y, training=False))\n",
        "\n",
        "print('\\nTest set accuracy: {accuracy:0.3f}\\n'.format(**eval_result))"
      ],
      "execution_count": null,
      "outputs": [
        {
          "output_type": "stream",
          "text": [
            "INFO:tensorflow:Calling model_fn.\n",
            "INFO:tensorflow:Done calling model_fn.\n",
            "INFO:tensorflow:Starting evaluation at 2021-07-20T08:42:07\n",
            "INFO:tensorflow:Graph was finalized.\n",
            "INFO:tensorflow:Restoring parameters from /tmp/tmpre6lbcrv/model.ckpt-5000\n",
            "INFO:tensorflow:Running local_init_op.\n",
            "INFO:tensorflow:Done running local_init_op.\n",
            "INFO:tensorflow:Inference Time : 0.26024s\n",
            "INFO:tensorflow:Finished evaluation at 2021-07-20-08:42:07\n",
            "INFO:tensorflow:Saving dict for global step 5000: accuracy = 0.7, average_loss = 0.561785, global_step = 5000, loss = 0.561785\n",
            "INFO:tensorflow:Saving 'checkpoint_path' summary for global step 5000: /tmp/tmpre6lbcrv/model.ckpt-5000\n",
            "\n",
            "Test set accuracy: 0.700\n",
            "\n"
          ],
          "name": "stdout"
        }
      ]
    },
    {
      "cell_type": "code",
      "metadata": {
        "colab": {
          "base_uri": "https://localhost:8080/"
        },
        "id": "6XscKTQEGgZA",
        "outputId": "fa0d83dc-6049-4434-8b14-eaa2b558f653"
      },
      "source": [
        "def input_fn(features, batch_size=256):\n",
        "    # Convert the inputs to a Dataset without labels.\n",
        "    return tf.data.Dataset.from_tensor_slices(dict(features)).batch(batch_size)\n",
        "\n",
        "features = ['SepalLength', 'SepalWidth', 'PetalLength', 'PetalWidth']\n",
        "predict = {}\n",
        "\n",
        "print(\"Please type numeric values as prompted.\")\n",
        "for feature in features:\n",
        "  valid = True\n",
        "  while valid: \n",
        "    val = input(feature + \": \")\n",
        "    if not val.isdigit(): valid = False\n",
        "\n",
        "  predict[feature] = [float(val)]\n",
        "\n",
        "predictions = classifier.predict(input_fn=lambda: input_fn(predict))\n",
        "for pred_dict in predictions:\n",
        "    print(pred_dict)\n",
        "    class_id = pred_dict['class_ids'][0]\n",
        "    probability = pred_dict['probabilities'][class_id]\n",
        "    print('Prediction is \"{}\" ({:.1f}%)'.format(\n",
        "        SPECIES[class_id], 100 * probability))\n"
      ],
      "execution_count": null,
      "outputs": [
        {
          "output_type": "stream",
          "text": [
            "Please type numeric values as prompted.\n",
            "SepalLength: 2.4\n",
            "SepalWidth: 5.6\n",
            "PetalLength: 7.3\n",
            "PetalWidth: 8.0\n",
            "INFO:tensorflow:Calling model_fn.\n",
            "INFO:tensorflow:Done calling model_fn.\n",
            "INFO:tensorflow:Graph was finalized.\n",
            "INFO:tensorflow:Restoring parameters from /tmp/tmpre6lbcrv/model.ckpt-5000\n",
            "INFO:tensorflow:Running local_init_op.\n",
            "INFO:tensorflow:Done running local_init_op.\n",
            "{'logits': array([-5.104653  , -0.21396089,  1.9771303 ], dtype=float32), 'probabilities': array([7.55210232e-04, 1.00477435e-01, 8.98767352e-01], dtype=float32), 'class_ids': array([2]), 'classes': array([b'2'], dtype=object), 'all_class_ids': array([0, 1, 2], dtype=int32), 'all_classes': array([b'0', b'1', b'2'], dtype=object)}\n",
            "Prediction is \"Virginica\" (89.9%)\n"
          ],
          "name": "stdout"
        }
      ]
    },
    {
      "cell_type": "code",
      "metadata": {
        "colab": {
          "base_uri": "https://localhost:8080/"
        },
        "id": "kG2vcPdsGwfA",
        "outputId": "b2eb4d42-0777-4e2a-fae2-89768ac3973f"
      },
      "source": [
        ""
      ],
      "execution_count": null,
      "outputs": [
        {
          "output_type": "stream",
          "text": [
            "<generator object Estimator.predict at 0x7f72e015ac50>\n"
          ],
          "name": "stdout"
        }
      ]
    }
  ]
}